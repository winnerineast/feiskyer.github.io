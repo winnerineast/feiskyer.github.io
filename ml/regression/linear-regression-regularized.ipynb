{
 "cells": [
  {
   "cell_type": "markdown",
   "metadata": {},
   "source": [
    "## Regularized Linear Regression"
   ]
  },
  {
   "cell_type": "code",
   "execution_count": 2,
   "metadata": {
    "collapsed": false
   },
   "outputs": [
    {
     "name": "stdout",
     "output_type": "stream",
     "text": [
      "[ 1.84230614]\n",
      "[ 9.97495556]\n"
     ]
    },
    {
     "data": {
      "image/png": "[encoded data removed]",
      "text/plain": [
       "<matplotlib.figure.Figure at 0x1126ee110>"
      ]
     },
     "metadata": {},
     "output_type": "display_data"
    }
   ],
   "source": [
    "#!/usr/bin/env python\n",
    "# h(x)=b+wx\n",
    "%matplotlib inline\n",
    "import tensorflow as tf\n",
    "import numpy as np\n",
    "import matplotlib.pyplot as plt\n",
    "\n",
    "\n",
    "def model(X, w, b):\n",
    "    return tf.mul(X, w) + b\n",
    "\n",
    "\n",
    "trX = np.linspace(-1, 1, 101).astype(np.float32)\n",
    "# create a y value which is approximately linear but with some random noise\n",
    "trY = 2 * trX + np.random.randn(*trX.shape) * 0.33 + 10\n",
    "\n",
    "# create a shared variable (like theano.shared) for the weight matrix\n",
    "w = tf.Variable(tf.random_uniform([1], -1.0, 1.0))\n",
    "b = tf.Variable(tf.zeros([1]))\n",
    "# choose Regularization Parameter to 0.05\n",
    "cost = tf.reduce_mean(tf.square(trY-model(trX, w, b)) + 0.05*np.sum(w))\n",
    "\n",
    "# construct an optimizer to minimize cost and fit line to my data\n",
    "train_op = tf.train.GradientDescentOptimizer(0.01).minimize(cost)\n",
    "\n",
    "# Launch the graph in a session\n",
    "with tf.Session() as sess:\n",
    "    # you need to initialize variables (in this case just variable W)\n",
    "    tf.initialize_all_variables().run()\n",
    "\n",
    "    for i in range(1000):\n",
    "        sess.run(train_op)\n",
    "\n",
    "    print(sess.run(w))  # It should be something around 2\n",
    "    print(sess.run(b))  # It should be something around 10\n",
    "    \n",
    "    plt.plot(trX, trY, \"ro\", label=\"Orinal data\")\n",
    "    plt.plot(trX, sess.run(w)*trX + sess.run(b), label=\"Fitted line\")\n",
    "    plt.legend()\n",
    "    plt.show()\n",
    "\n"
   ]
  },
  {
   "cell_type": "markdown",
   "metadata": {},
   "source": [
    "## Regularized Multi-variable Linear Regression"
   ]
  },
  {
   "cell_type": "code",
   "execution_count": 3,
   "metadata": {
    "collapsed": false
   },
   "outputs": [
    {
     "name": "stdout",
     "output_type": "stream",
     "text": [
      "w should be something around [3, 5]:  [ 2.92737865  4.99970579]\n",
      "b should be something around [20,100]: [[  20.01066017  100.00799561]]\n"
     ]
    }
   ],
   "source": [
    "%matplotlib inline\n",
    "import tensorflow as tf\n",
    "import numpy as np\n",
    "import matplotlib.pyplot as plt\n",
    "\n",
    "\n",
    "def model(X, w, b):\n",
    "    return tf.mul(w, X) + b\n",
    "\n",
    "trX = np.mgrid[-1:1:0.01, -10:10:0.1].reshape(2, -1).T\n",
    "trW = np.array([3, 5])\n",
    "trY = trW*trX + np.random.randn(*trX.shape) + [20, 100]\n",
    "\n",
    "w = tf.Variable(np.array([1., 1.]).astype(np.float32))\n",
    "b = tf.Variable(np.array([[1., 1.]]).astype(np.float32))\n",
    "# Choose Regularization Parameter to 0.05\n",
    "cost = tf.reduce_mean(tf.square(trY-model(trX, w, b)) + 0.05*np.sum(w)) \n",
    "\n",
    "# construct an optimizer to minimize cost and fit line to my data\n",
    "train_op = tf.train.GradientDescentOptimizer(0.05).minimize(cost)\n",
    "\n",
    "# Launch the graph in a session\n",
    "with tf.Session() as sess:\n",
    "    # you need to initialize variables (in this case just variable W)\n",
    "    tf.initialize_all_variables().run()\n",
    "\n",
    "    for i in range(1000):\n",
    "        sess.run(train_op)\n",
    "\n",
    "    print \"w should be something around [3, 5]: \", sess.run(w)\n",
    "    print \"b should be something around [20,100]:\", sess.run(b)\n",
    "\n"
   ]
  },
  {
   "cell_type": "code",
   "execution_count": null,
   "metadata": {
    "collapsed": true
   },
   "outputs": [],
   "source": []
  }
 ],
 "metadata": {
  "kernelspec": {
   "display_name": "Python 2",
   "language": "python",
   "name": "python2"
  },
  "language_info": {
   "codemirror_mode": {
    "name": "ipython",
    "version": 2
   },
   "file_extension": ".py",
   "mimetype": "text/x-python",
   "name": "python",
   "nbconvert_exporter": "python",
   "pygments_lexer": "ipython2",
   "version": "2.7.10"
  }
 },
 "nbformat": 4,
 "nbformat_minor": 0
}
