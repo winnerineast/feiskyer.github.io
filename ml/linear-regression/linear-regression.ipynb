{
 "cells": [
  {
   "cell_type": "markdown",
   "metadata": {},
   "source": [
    "## Linear Regression"
   ]
  },
  {
   "cell_type": "code",
   "execution_count": 1,
   "metadata": {
    "collapsed": false
   },
   "outputs": [
    {
     "name": "stdout",
     "output_type": "stream",
     "text": [
      "w should be something around [2]:  [ 2.00981951]\n",
      "b should be something around [10]: [ 9.98865509]\n"
     ]
    },
    {
     "data": {
      "image/png": "[encoded data removed]",
      "text/plain": [
       "<matplotlib.figure.Figure at 0x117094410>"
      ]
     },
     "metadata": {},
     "output_type": "display_data"
    }
   ],
   "source": [
    "#!/usr/bin/env python\n",
    "# h(X)= b + wX\n",
    "%matplotlib inline\n",
    "import tensorflow as tf\n",
    "import numpy as np\n",
    "import matplotlib.pyplot as plt\n",
    "\n",
    "\n",
    "def model(X, w, b):\n",
    "    return tf.mul(X, w) + b\n",
    "\n",
    "\n",
    "trX = np.linspace(-1, 1, 101).astype(np.float32)\n",
    "# create a y value which is approximately linear but with some random noise\n",
    "trY = 2 * trX + np.random.randn(*trX.shape) * 0.33 + 10\n",
    "\n",
    "# create a shared variable (like theano.shared) for the weight matrix\n",
    "w = tf.Variable(tf.random_uniform([1], -1.0, 1.0))\n",
    "b = tf.Variable(tf.zeros([1]))\n",
    "cost = tf.reduce_mean(tf.square(trY-model(trX, w, b)))\n",
    "\n",
    "# construct an optimizer to minimize cost and fit line to my data\n",
    "train_op = tf.train.GradientDescentOptimizer(0.01).minimize(cost)\n",
    "\n",
    "# Launch the graph in a session\n",
    "with tf.Session() as sess:\n",
    "    # you need to initialize variables (in this case just variable W)\n",
    "    tf.initialize_all_variables().run()\n",
    "\n",
    "    for i in range(1000):\n",
    "        sess.run(train_op)\n",
    "\n",
    "    print \"w should be something around [2]: \", sess.run(w)\n",
    "    print \"b should be something around [10]:\", sess.run(b)\n",
    "    \n",
    "    plt.plot(trX, trY, \"ro\", label=\"Orinal data\")\n",
    "    plt.plot(trX, w.eval()*trX + b.eval(), label=\"Fitted line\")\n",
    "    plt.legend()\n",
    "    plt.show()\n"
   ]
  },
  {
   "cell_type": "markdown",
   "metadata": {
    "collapsed": true
   },
   "source": [
    "## Multi-variable Linear Regression"
   ]
  },
  {
   "cell_type": "code",
   "execution_count": 4,
   "metadata": {
    "collapsed": false
   },
   "outputs": [
    {
     "name": "stdout",
     "output_type": "stream",
     "text": [
      "Cost at step 0 is: 5329.87\n",
      "Cost at step 99 is: 1.22204\n",
      "Cost at step 198 is: 0.998043\n",
      "Cost at step 297 is: 0.997083\n",
      "Cost at step 396 is: 0.997049\n",
      "Cost at step 495 is: 0.997049\n",
      "Cost at step 594 is: 0.997049\n",
      "Cost at step 693 is: 0.997049\n",
      "Cost at step 792 is: 0.997049\n",
      "Cost at step 891 is: 0.997049\n",
      "Cost at step 990 is: 0.997049\n",
      "w should be something around [3, 5]:  [ 3.00108743  5.00054932]\n",
      "b should be something around [20,100]: [[  20.00317383  100.00382233]]\n"
     ]
    }
   ],
   "source": [
    "#!/usr/bin/env python\n",
    "# h(X)= B + WX\n",
    "%matplotlib inline\n",
    "import tensorflow as tf\n",
    "import numpy as np\n",
    "import matplotlib.pyplot as plt\n",
    "\n",
    "def model(X, w, b):\n",
    "    return tf.mul(w, X) + b\n",
    "\n",
    "trX = np.mgrid[-1:1:0.01, -10:10:0.1].reshape(2, -1).T\n",
    "trW = np.array([3, 5])\n",
    "trY = trW*trX + np.random.randn(*trX.shape) + [20, 100]\n",
    "\n",
    "w = tf.Variable(np.array([1., 1.]).astype(np.float32))\n",
    "b = tf.Variable(np.array([[1., 1.]]).astype(np.float32))\n",
    "cost = tf.reduce_mean(tf.square(trY-model(trX, w, b))) \n",
    "\n",
    "# construct an optimizer to minimize cost and fit line to my data\n",
    "train_op = tf.train.GradientDescentOptimizer(0.05).minimize(cost)\n",
    "\n",
    "# Launch the graph in a session\n",
    "with tf.Session() as sess:\n",
    "    # you need to initialize variables (in this case just variable W)\n",
    "    tf.initialize_all_variables().run()\n",
    "\n",
    "    for i in range(1000):\n",
    "        if i % 99 == 0:\n",
    "            print \"Cost at step\", i, \"is:\", cost.eval()\n",
    "        sess.run(train_op)\n",
    "\n",
    "    print \"w should be something around [3, 5]: \", sess.run(w)\n",
    "    print \"b should be something around [20,100]:\", sess.run(b)\n"
   ]
  },
  {
   "cell_type": "code",
   "execution_count": null,
   "metadata": {
    "collapsed": true
   },
   "outputs": [],
   "source": []
  }
 ],
 "metadata": {
  "kernelspec": {
   "display_name": "Python 2",
   "language": "python",
   "name": "python2"
  },
  "language_info": {
   "codemirror_mode": {
    "name": "ipython",
    "version": 2
   },
   "file_extension": ".py",
   "mimetype": "text/x-python",
   "name": "python",
   "nbconvert_exporter": "python",
   "pygments_lexer": "ipython2",
   "version": "2.7.10"
  }
 },
 "nbformat": 4,
 "nbformat_minor": 0
}
